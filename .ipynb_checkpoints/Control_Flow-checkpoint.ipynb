{
 "cells": [
  {
   "cell_type": "markdown",
   "metadata": {},
   "source": [
    "# Medical Insurance Project\n",
    "## Phase 3: Python Control Flow\n",
    "This is a continuation of the project started in main."
   ]
  },
  {
   "cell_type": "markdown",
   "metadata": {},
   "source": [
    "The initial code is provided below:"
   ]
  },
  {
   "cell_type": "code",
   "execution_count": 1,
   "metadata": {},
   "outputs": [
    {
     "name": "stdout",
     "output_type": "stream",
     "text": [
      "Keanu's Estimated Insurance Cost: 29591.0 dollars.\n"
     ]
    }
   ],
   "source": [
    "# Function to estimate insurance cost:\n",
    "def estimate_insurance_cost(name, age, sex, bmi, num_of_children, smoker):\n",
    "  estimated_cost = 250*age - 128*sex + 370*bmi + 425*num_of_children + 24000*smoker - 12500\n",
    "  print(name + \"'s Estimated Insurance Cost: \" + str(estimated_cost) + \" dollars.\")\n",
    "  return estimated_cost\n",
    " \n",
    "# Estimate Keanu's insurance cost\n",
    "keanu_insurance_cost = estimate_insurance_cost(name = 'Keanu', age = 29, sex = 1, bmi = 26.2, num_of_children = 3, smoker = 1)"
   ]
  },
  {
   "cell_type": "markdown",
   "metadata": {},
   "source": [
    "### Adding control flow:\n",
    "This function could be more useful if it could provide us with insight as to how to lower our insurance costs.\n",
    "\n",
    "To start, we can create a function that analyzes an individual's smoking status."
   ]
  },
  {
   "cell_type": "code",
   "execution_count": 2,
   "metadata": {},
   "outputs": [],
   "source": [
    "def analyze_smoker(smoker_status):\n",
    "    if smoker_status == 1:\n",
    "        print(\"To lower your cost, you should consider quitting smoking.\")\n",
    "    else:\n",
    "        print(\"Smoking is not an issue for you.\")"
   ]
  },
  {
   "cell_type": "markdown",
   "metadata": {},
   "source": [
    "Now we can use this function within the estimate_insurance_cost function"
   ]
  },
  {
   "cell_type": "code",
   "execution_count": null,
   "metadata": {},
   "outputs": [],
   "source": [
    "def estimate_insurance_cost(name, age, sex, bmi, num_of_children, smoker):\n",
    "    estimated_cost = 250*age - 128*sex + 370*bmi + 425*num_of_children + 24000*smoker - 12500\n",
    "    print(name + \"'s Estimated Insurance Cost: \" + str(estimated_cost) + \" dollars.\")\n",
    "    analyze_smoker(smoker)\n",
    "    return estimated_cost\n",
    "\n",
    "keanu_insurance_cost = estimate_insurance_cost(name = 'Keanu', age = 29, sex = 1, bmi = 26.2, num_of_children = 3, smoker = 1)"
   ]
  },
  {
   "cell_type": "markdown",
   "metadata": {},
   "source": [
    "Now create a function to analyze BMI."
   ]
  },
  {
   "cell_type": "code",
   "execution_count": 5,
   "metadata": {},
   "outputs": [],
   "source": [
    "def analyze_bmi(bmi_value):\n",
    "    if bmi_value > 30:\n",
    "        print(\"Your BMI is in the obese range. To lower your cost, you should\\\n",
    "        significantly lower your BMI.\")\n",
    "    elif (bmi_value >= 25) & (bmi_value <= 30):\n",
    "        print(\"Your BMI is in the overweight range. To lower your cost, you should lower your BMI.\")\n",
    "    elif (bmi_value >= 18.5) & (bmi_value < 25):\n",
    "        print(\"Your BMI is in a healthy range.\")\n",
    "    elif bmi_value < 18.5:\n",
    "        print(\"Your BMI is in the underweight range. Increasing your BMI will not help lower your cost\\\n",
    "        but it will help improve your health.\")\n",
    "        "
   ]
  },
  {
   "cell_type": "markdown",
   "metadata": {},
   "source": [
    "Add a call to analyze_bmi within the estimate_insurance_cost function."
   ]
  },
  {
   "cell_type": "code",
   "execution_count": 6,
   "metadata": {},
   "outputs": [
    {
     "name": "stdout",
     "output_type": "stream",
     "text": [
      "Keanu's Estimated Insurance Cost: 29591.0 dollars.\n",
      "To lower your cost, you should consider quitting smoking.\n",
      "Your BMI is in the overweight range. To lower your cost, you should lower your BMI.\n"
     ]
    }
   ],
   "source": [
    "def estimate_insurance_cost(name, age, sex, bmi, num_of_children, smoker):\n",
    "    estimated_cost = 250*age - 128*sex + 370*bmi + 425*num_of_children + 24000*smoker - 12500\n",
    "    print(name + \"'s Estimated Insurance Cost: \" + str(estimated_cost) + \" dollars.\")\n",
    "    analyze_smoker(smoker)\n",
    "    analyze_bmi(bmi)\n",
    "    return estimated_cost\n",
    "\n",
    "keanu_insurance_cost = estimate_insurance_cost(name = 'Keanu', age = 29, sex = 1, bmi = 26.2, num_of_children = 3, smoker = 1)"
   ]
  },
  {
   "cell_type": "markdown",
   "metadata": {},
   "source": [
    "## Extra Challenges\n",
    "Use try and except statements to build error control into the code.\n",
    "\n",
    "One way to use try and except statements would be to try the estimated_cost equation. If it fails, it is likely due to one of the arguments being of the wrong type.\n",
    "First, see how the code operates when no exception is raised."
   ]
  },
  {
   "cell_type": "code",
   "execution_count": 14,
   "metadata": {},
   "outputs": [
    {
     "name": "stdout",
     "output_type": "stream",
     "text": [
      "Keanu's Estimated Insurance Cost: 29591.0 dollars.\n",
      "To lower your cost, you should consider quitting smoking.\n",
      "Your BMI is in the overweight range. To lower your cost, you should lower your BMI.\n"
     ]
    }
   ],
   "source": [
    "def estimate_insurance_cost(name, age, sex, bmi, num_of_children, smoker):\n",
    "    try:\n",
    "        estimated_cost = 250*age - 128*sex + 370*bmi + 425*num_of_children + 24000*smoker - 12500\n",
    "        print(name + \"'s Estimated Insurance Cost: \" + str(estimated_cost) + \" dollars.\")\n",
    "        analyze_smoker(smoker)\n",
    "        analyze_bmi(bmi)\n",
    "        return estimated_cost\n",
    "    except TypeError:\n",
    "        print(\"\"\"TypeError occured, check the arguemnts are of the proper type and order:\n",
    "              1. name: str\n",
    "              2 age: int or float\n",
    "              3. sex: int (1 or 0)\n",
    "              4. bmi: int or float\n",
    "              5. num_of_children: int\n",
    "              6. smoker: int (1 or 0)\"\"\")\n",
    "    except:\n",
    "        print(\"Something else went wrong\")\n",
    "        \n",
    "    \n",
    "\n",
    "keanu_insurance_cost = estimate_insurance_cost(name = 'Keanu', age = 29, sex = 1, bmi = 26.2, num_of_children = 3, smoker = 1)"
   ]
  },
  {
   "cell_type": "markdown",
   "metadata": {},
   "source": [
    "Now, see what happens when a TypeError exception is made."
   ]
  },
  {
   "cell_type": "code",
   "execution_count": 15,
   "metadata": {},
   "outputs": [
    {
     "name": "stdout",
     "output_type": "stream",
     "text": [
      "TypeError occured, check the arguemnts are of the proper type and order:\n",
      "              1. name: str\n",
      "              2 age: int or float\n",
      "              3. sex: int (1 or 0)\n",
      "              4. bmi: int or float\n",
      "              5. num_of_children: int\n",
      "              6. smoker: int (1 or 0)\n"
     ]
    }
   ],
   "source": [
    "keanu_insurance_cost = estimate_insurance_cost(name = 'Keanu', age = 29, sex = 1, bmi = 26.2, num_of_children = 3, smoker = \"yes\")"
   ]
  },
  {
   "cell_type": "markdown",
   "metadata": {},
   "source": [
    "In the analyze_bmi function, notify the individual how much they need to lower or raise their BMI to bring it to a normal weight range."
   ]
  },
  {
   "cell_type": "code",
   "execution_count": 30,
   "metadata": {},
   "outputs": [],
   "source": [
    "def analyze_bmi(bmi_value):\n",
    "    if bmi_value > 30:\n",
    "        amount_to_lower = bmi_value - 25.0\n",
    "        print(\"Your BMI is in the obese range. To lower your cost, you should\\\n",
    "        significantly lower your BMI.\")\n",
    "        print(\"Lowering your BMI by \" + str(round(amount_to_lower,2)) + \" would bring it into a healthy range.\")\n",
    "    elif (bmi_value >= 25) & (bmi_value <= 30):\n",
    "        amount_to_lower = bmi_value - 25.0\n",
    "        print(\"Your BMI is in the overweight range. To lower your cost, you should lower your BMI.\")\n",
    "        print(\"Lowering your BMI by \" + str(round(amount_to_lower,2)) + \" would bring it into a healthy range.\")\n",
    "    elif (bmi_value >= 18.5) & (bmi_value < 25):\n",
    "        print(\"Your BMI is in a healthy range.\")\n",
    "    elif bmi_value < 18.5:\n",
    "        amount_to_raise = 18.5 - bmi_value\n",
    "        print(\"Your BMI is in the underweight range. Increasing your BMI will not help lower your cost\\\n",
    "        but it will help improve your health.\")\n",
    "        print(\"Increasing your BMI by \" + str(round(amount_to_raise,2)) + \" would bring it into a healthy range.\")"
   ]
  },
  {
   "cell_type": "markdown",
   "metadata": {},
   "source": [
    "Test this function on differnt BMI values."
   ]
  },
  {
   "cell_type": "code",
   "execution_count": 31,
   "metadata": {},
   "outputs": [
    {
     "name": "stdout",
     "output_type": "stream",
     "text": [
      "Your BMI is in the obese range. To lower your cost, you should        significantly lower your BMI.\n",
      "Lowering your BMI by 11.4 would bring it into a healthy range.\n"
     ]
    }
   ],
   "source": [
    "analyze_bmi(36.4)"
   ]
  },
  {
   "cell_type": "code",
   "execution_count": 34,
   "metadata": {},
   "outputs": [
    {
     "name": "stdout",
     "output_type": "stream",
     "text": [
      "Your BMI is in the overweight range. To lower your cost, you should lower your BMI.\n",
      "Lowering your BMI by 3.2 would bring it into a healthy range.\n"
     ]
    }
   ],
   "source": [
    "analyze_bmi(28.2)"
   ]
  },
  {
   "cell_type": "code",
   "execution_count": 35,
   "metadata": {},
   "outputs": [
    {
     "name": "stdout",
     "output_type": "stream",
     "text": [
      "Your BMI is in a healthy range.\n"
     ]
    }
   ],
   "source": [
    "analyze_bmi(20.8)"
   ]
  },
  {
   "cell_type": "code",
   "execution_count": 36,
   "metadata": {},
   "outputs": [
    {
     "name": "stdout",
     "output_type": "stream",
     "text": [
      "Your BMI is in the underweight range. Increasing your BMI will not help lower your cost        but it will help improve your health.\n",
      "Increasing your BMI by 1.8 would bring it into a healthy range.\n"
     ]
    }
   ],
   "source": [
    "analyze_bmi(16.7)"
   ]
  },
  {
   "cell_type": "code",
   "execution_count": null,
   "metadata": {},
   "outputs": [],
   "source": []
  }
 ],
 "metadata": {
  "kernelspec": {
   "display_name": "Python 3",
   "language": "python",
   "name": "python3"
  },
  "language_info": {
   "codemirror_mode": {
    "name": "ipython",
    "version": 3
   },
   "file_extension": ".py",
   "mimetype": "text/x-python",
   "name": "python",
   "nbconvert_exporter": "python",
   "pygments_lexer": "ipython3",
   "version": "3.7.6"
  }
 },
 "nbformat": 4,
 "nbformat_minor": 4
}
