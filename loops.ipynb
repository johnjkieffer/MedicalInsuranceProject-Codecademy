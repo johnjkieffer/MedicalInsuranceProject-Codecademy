{
 "cells": [
  {
   "cell_type": "markdown",
   "metadata": {},
   "source": [
    "# Medical Insurance Project\n",
    "## Phase 5: Python Loops\n",
    "\n",
    "This is a continuation of the project started in main.\n",
    "\n",
    "The initial code provided is below:"
   ]
  },
  {
   "cell_type": "code",
   "execution_count": 1,
   "metadata": {},
   "outputs": [],
   "source": [
    "names = [\"Judith\", \"Abel\", \"Tyson\", \"Martha\", \"Beverley\", \"David\", \"Anabel\"]\n",
    "estimated_insurance_costs = [1000.0, 2000.0, 3000.0, 4000.0, 5000.0, 6000.0, 7000.0]\n",
    "actual_insurance_costs = [1100.0, 2200.0, 3300.0, 4400.0, 5500.0, 6600.0, 7700.0]"
   ]
  },
  {
   "cell_type": "markdown",
   "metadata": {},
   "source": [
    "We want to calculate the average insurance cost that each person paid."
   ]
  },
  {
   "cell_type": "code",
   "execution_count": 4,
   "metadata": {},
   "outputs": [
    {
     "name": "stdout",
     "output_type": "stream",
     "text": [
      "The average insurance cost paid is: $4400.0\n"
     ]
    }
   ],
   "source": [
    "total_cost = 0\n",
    "for cost in actual_insurance_costs:\n",
    "    total_cost += cost\n",
    "    \n",
    "average_cost = total_cost/len(actual_insurance_costs)\n",
    "print(\"The average insurance cost paid is: $\" + str(average_cost))"
   ]
  },
  {
   "cell_type": "markdown",
   "metadata": {},
   "source": [
    "For each individual in `names`, we want to determine whether their cost is below or above average."
   ]
  },
  {
   "cell_type": "code",
   "execution_count": 9,
   "metadata": {
    "scrolled": true
   },
   "outputs": [
    {
     "name": "stdout",
     "output_type": "stream",
     "text": [
      "The insurance cost for Judith is 1100.0 dollars.\n",
      "The insurance cost for Abel is 2200.0 dollars.\n",
      "The insurance cost for Tyson is 3300.0 dollars.\n",
      "The insurance cost for Martha is 4400.0 dollars.\n",
      "The insurance cost for Beverley is 5500.0 dollars.\n",
      "The insurance cost for David is 6600.0 dollars.\n",
      "The insurance cost for Anabel is 7700.0 dollars.\n"
     ]
    }
   ],
   "source": [
    "for i in range(len(names)):\n",
    "    name = names[i]\n",
    "    insurance_cost = actual_insurance_costs[i]\n",
    "    print(\"The insurance cost for {n} is {i} dollars.\".format(n=name, i = insurance_cost))"
   ]
  },
  {
   "cell_type": "code",
   "execution_count": null,
   "metadata": {},
   "outputs": [],
   "source": []
  }
 ],
 "metadata": {
  "kernelspec": {
   "display_name": "Python 3",
   "language": "python",
   "name": "python3"
  },
  "language_info": {
   "codemirror_mode": {
    "name": "ipython",
    "version": 3
   },
   "file_extension": ".py",
   "mimetype": "text/x-python",
   "name": "python",
   "nbconvert_exporter": "python",
   "pygments_lexer": "ipython3",
   "version": "3.7.6"
  }
 },
 "nbformat": 4,
 "nbformat_minor": 4
}
