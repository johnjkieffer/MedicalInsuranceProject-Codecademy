{
 "cells": [
  {
   "cell_type": "markdown",
   "metadata": {},
   "source": [
    "# Medical Insurance Project\n",
    "## Phase 7: Python Dictionaries\n",
    "\n",
    "This is a continuation of the project started in main.\n"
   ]
  },
  {
   "cell_type": "markdown",
   "metadata": {},
   "source": [
    "We would like to keep a record of medical patients and their insurance costs.\n",
    "\n",
    "We will use a dictionary to do this."
   ]
  },
  {
   "cell_type": "code",
   "execution_count": 1,
   "metadata": {},
   "outputs": [],
   "source": [
    "medical_costs = {}"
   ]
  },
  {
   "cell_type": "code",
   "execution_count": 2,
   "metadata": {},
   "outputs": [
    {
     "data": {
      "text/plain": [
       "{'Maria': 6607.0, 'Vinay': 3225.0}"
      ]
     },
     "execution_count": 2,
     "metadata": {},
     "output_type": "execute_result"
    }
   ],
   "source": [
    "medical_costs[\"Maria\"] = 6607.0\n",
    "medical_costs[\"Vinay\"] = 3225.0\n",
    "medical_costs"
   ]
  },
  {
   "cell_type": "markdown",
   "metadata": {},
   "source": [
    "Add three more patients and costs, but using only one line of code."
   ]
  },
  {
   "cell_type": "code",
   "execution_count": 3,
   "metadata": {},
   "outputs": [
    {
     "data": {
      "text/plain": [
       "{'Maria': 6607.0,\n",
       " 'Vinay': 3225.0,\n",
       " 'Connie': 886.0,\n",
       " 'Isaac': 16444.0,\n",
       " 'Valentina': 6420.0}"
      ]
     },
     "execution_count": 3,
     "metadata": {},
     "output_type": "execute_result"
    }
   ],
   "source": [
    "medical_costs.update({\"Connie\":886.0, \"Isaac\":16444.0, \"Valentina\":6420.0})\n",
    "medical_costs"
   ]
  },
  {
   "cell_type": "markdown",
   "metadata": {},
   "source": [
    "Suppose Vinay's insurance cost was incorrect. Update that value."
   ]
  },
  {
   "cell_type": "code",
   "execution_count": 4,
   "metadata": {},
   "outputs": [
    {
     "data": {
      "text/plain": [
       "{'Maria': 6607.0,\n",
       " 'Vinay': 3325.0,\n",
       " 'Connie': 886.0,\n",
       " 'Isaac': 16444.0,\n",
       " 'Valentina': 6420.0}"
      ]
     },
     "execution_count": 4,
     "metadata": {},
     "output_type": "execute_result"
    }
   ],
   "source": [
    "medical_costs[\"Vinay\"] = 3325.0\n",
    "medical_costs"
   ]
  },
  {
   "cell_type": "markdown",
   "metadata": {},
   "source": [
    "Calculate the average medical cost of each patient by looping through the dictionary."
   ]
  },
  {
   "cell_type": "code",
   "execution_count": 10,
   "metadata": {},
   "outputs": [
    {
     "name": "stdout",
     "output_type": "stream",
     "text": [
      "Average Insurance Cost: 6420.0\n"
     ]
    }
   ],
   "source": [
    "total_cost = 0\n",
    "for cost in medical_costs.values():\n",
    "    total_cost += v\n",
    "\n",
    "average_cost = total_cost/len(medical_costs)\n",
    "print(f\"Average Insurance Cost: {average_cost}\")\n"
   ]
  },
  {
   "cell_type": "markdown",
   "metadata": {},
   "source": [
    "Now create a second dictionary that maps patient names to their age.\n",
    "First, create two lists: `names` and `ages`. Then zip these two lists together and create a dictionary from the zipped list using a list comprehension."
   ]
  },
  {
   "cell_type": "code",
   "execution_count": 14,
   "metadata": {},
   "outputs": [
    {
     "data": {
      "text/plain": [
       "{'Marina': 27, 'Vinay': 24, 'Connie': 43, 'Isaac': 35, 'Valentina': 52}"
      ]
     },
     "execution_count": 14,
     "metadata": {},
     "output_type": "execute_result"
    }
   ],
   "source": [
    "names = [\"Marina\", \"Vinay\", \"Connie\", \"Isaac\", \"Valentina\"]\n",
    "ages = [27, 24, 43, 35, 52]\n",
    "\n",
    "zipped_ages = zip(names, ages)\n",
    "\n",
    "names_to_ages = {name : age for name, age in zipped_ages}\n",
    "\n",
    "names_to_ages\n",
    "    "
   ]
  },
  {
   "cell_type": "markdown",
   "metadata": {},
   "source": [
    "Use `.get()` to get the value of Marina's age and save it as `marina_age`. Use `None` as a default if the key doesn't exist."
   ]
  },
  {
   "cell_type": "code",
   "execution_count": 21,
   "metadata": {},
   "outputs": [
    {
     "name": "stdout",
     "output_type": "stream",
     "text": [
      "Marina's age is 27\n"
     ]
    }
   ],
   "source": [
    "marina_age = names_to_ages.get(\"Marina\", None)\n",
    "print(f\"Marina's age is {marina_age}\")"
   ]
  },
  {
   "cell_type": "markdown",
   "metadata": {},
   "source": [
    "Now create a third dictionary to represent a database of medical records that contains information such as a patient's name, age, sex, gender, BMI, number of children, smoker status, and insurance cost.\n"
   ]
  },
  {
   "cell_type": "code",
   "execution_count": 22,
   "metadata": {},
   "outputs": [
    {
     "data": {
      "text/plain": [
       "{'Marina': {'Age': 27,\n",
       "  'Sex': 'Female',\n",
       "  'BMI': 31.1,\n",
       "  'Children': 2,\n",
       "  'Smoker': 'Non-smoker',\n",
       "  'Insurance_cost': 6607.0}}"
      ]
     },
     "execution_count": 22,
     "metadata": {},
     "output_type": "execute_result"
    }
   ],
   "source": [
    "medical_records = {}\n",
    "medical_records[\"Marina\"] = {\"Age\": 27, \"Sex\": \"Female\", \"BMI\": 31.1, \"Children\": 2, \"Smoker\": \"Non-smoker\", \"Insurance_cost\": 6607.0}\n",
    "medical_records"
   ]
  },
  {
   "cell_type": "code",
   "execution_count": 24,
   "metadata": {},
   "outputs": [
    {
     "data": {
      "text/plain": [
       "{'Marina': {'Age': 27,\n",
       "  'Sex': 'Female',\n",
       "  'BMI': 31.1,\n",
       "  'Children': 2,\n",
       "  'Smoker': 'Non-smoker',\n",
       "  'Insurance_cost': 6607.0},\n",
       " 'Vinay': {'Age': 24,\n",
       "  'Sex': 'Male',\n",
       "  'BMI': 26.9,\n",
       "  'Children': 0,\n",
       "  'Smoker': 'Non-smoker',\n",
       "  'Insurance_cost': 3225.0},\n",
       " 'Connie': {'Age': 43,\n",
       "  'Sex': 'Female',\n",
       "  'BMI': 25.3,\n",
       "  'Children': 3,\n",
       "  'Smoker': 'Non-smoker',\n",
       "  'Insurance_cost': 8886.0},\n",
       " 'Isaac': {'Age': 35,\n",
       "  'Sex': 'Male',\n",
       "  'BMI': 20.6,\n",
       "  'Children': 4,\n",
       "  'Smoker': 'Smoker',\n",
       "  'Insurance_cost': 16444.0},\n",
       " 'Valentina': {'Age': 52,\n",
       "  'Sex': 'Female',\n",
       "  'BMI': 18.7,\n",
       "  'Children': 1,\n",
       "  'Smoker': 'Non-smoker',\n",
       "  'Insurance_cost': 6420.0}}"
      ]
     },
     "execution_count": 24,
     "metadata": {},
     "output_type": "execute_result"
    }
   ],
   "source": [
    "medical_records[\"Vinay\"] = {\"Age\": 24, \"Sex\": \"Male\", \"BMI\": 26.9, \"Children\": 0, \"Smoker\": \"Non-smoker\", \"Insurance_cost\": 3225.0}\n",
    "medical_records[\"Connie\"] = {\"Age\": 43, \"Sex\": \"Female\", \"BMI\": 25.3, \"Children\": 3, \"Smoker\": \"Non-smoker\", \"Insurance_cost\": 8886.0}\n",
    "medical_records[\"Isaac\"] = {\"Age\": 35, \"Sex\": \"Male\", \"BMI\": 20.6, \"Children\": 4, \"Smoker\": \"Smoker\", \"Insurance_cost\": 16444.0}\n",
    "medical_records[\"Valentina\"] = {\"Age\": 52, \"Sex\": \"Female\", \"BMI\": 18.7, \"Children\": 1, \"Smoker\": \"Non-smoker\", \"Insurance_cost\": 6420.0}\n",
    "medical_records"
   ]
  },
  {
   "cell_type": "markdown",
   "metadata": {},
   "source": [
    "Now we can access an individuals records in the following manner."
   ]
  },
  {
   "cell_type": "code",
   "execution_count": 25,
   "metadata": {},
   "outputs": [
    {
     "name": "stdout",
     "output_type": "stream",
     "text": [
      "Connie's insurance cost is 8886.0 dollars.\n"
     ]
    }
   ],
   "source": [
    "connie_insurance = medical_records['Connie']['Insurance_cost']\n",
    "print(f\"Connie's insurance cost is {connie_insurance} dollars.\")"
   ]
  },
  {
   "cell_type": "markdown",
   "metadata": {},
   "source": [
    "Edit the medical records to remove Vinay."
   ]
  },
  {
   "cell_type": "code",
   "execution_count": 26,
   "metadata": {},
   "outputs": [
    {
     "data": {
      "text/plain": [
       "{'Marina': {'Age': 27,\n",
       "  'Sex': 'Female',\n",
       "  'BMI': 31.1,\n",
       "  'Children': 2,\n",
       "  'Smoker': 'Non-smoker',\n",
       "  'Insurance_cost': 6607.0},\n",
       " 'Connie': {'Age': 43,\n",
       "  'Sex': 'Female',\n",
       "  'BMI': 25.3,\n",
       "  'Children': 3,\n",
       "  'Smoker': 'Non-smoker',\n",
       "  'Insurance_cost': 8886.0},\n",
       " 'Isaac': {'Age': 35,\n",
       "  'Sex': 'Male',\n",
       "  'BMI': 20.6,\n",
       "  'Children': 4,\n",
       "  'Smoker': 'Smoker',\n",
       "  'Insurance_cost': 16444.0},\n",
       " 'Valentina': {'Age': 52,\n",
       "  'Sex': 'Female',\n",
       "  'BMI': 18.7,\n",
       "  'Children': 1,\n",
       "  'Smoker': 'Non-smoker',\n",
       "  'Insurance_cost': 6420.0}}"
      ]
     },
     "execution_count": 26,
     "metadata": {},
     "output_type": "execute_result"
    }
   ],
   "source": [
    "medical_records.pop(\"Vinay\")\n",
    "medical_records"
   ]
  },
  {
   "cell_type": "markdown",
   "metadata": {},
   "source": [
    "Take a close look at each patient's medical record.\n",
    "Use a `for` loop to iterate through the items of `medical_records` and print out a descriptive sentence."
   ]
  },
  {
   "cell_type": "code",
   "execution_count": 37,
   "metadata": {},
   "outputs": [
    {
     "name": "stdout",
     "output_type": "stream",
     "text": [
      "Marina is a 52 year old Female Non-smoker with a BMI of 31.1 and insurance cost of 6607.0 dollars.\n",
      "\n",
      "Connie is a 52 year old Female Non-smoker with a BMI of 25.3 and insurance cost of 8886.0 dollars.\n",
      "\n",
      "Isaac is a 52 year old Male Smoker with a BMI of 20.6 and insurance cost of 16444.0 dollars.\n",
      "\n",
      "Valentina is a 52 year old Female Non-smoker with a BMI of 18.7 and insurance cost of 6420.0 dollars.\n",
      "\n"
     ]
    }
   ],
   "source": [
    "for name in medical_records.keys():\n",
    "    sex = medical_records[name][\"Sex\"]\n",
    "    bmi = medical_records[name][\"BMI\"]\n",
    "    children = medical_records[name][\"Children\"]\n",
    "    smoker = medical_records[name][\"Smoker\"]\n",
    "    insurance_cost = medical_records[name][\"Insurance_cost\"]\n",
    "    print(f\"{name} is a {age} year old {sex} {smoker} with a BMI of {bmi} and insurance cost of {insurance_cost} dollars.\\n\")\n",
    " "
   ]
  },
  {
   "cell_type": "code",
   "execution_count": null,
   "metadata": {},
   "outputs": [],
   "source": []
  },
  {
   "cell_type": "code",
   "execution_count": null,
   "metadata": {},
   "outputs": [],
   "source": []
  }
 ],
 "metadata": {
  "kernelspec": {
   "display_name": "Python 3",
   "language": "python",
   "name": "python3"
  },
  "language_info": {
   "codemirror_mode": {
    "name": "ipython",
    "version": 3
   },
   "file_extension": ".py",
   "mimetype": "text/x-python",
   "name": "python",
   "nbconvert_exporter": "python",
   "pygments_lexer": "ipython3",
   "version": "3.7.6"
  }
 },
 "nbformat": 4,
 "nbformat_minor": 4
}
