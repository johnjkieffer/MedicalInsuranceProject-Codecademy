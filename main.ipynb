{
 "cells": [
  {
   "cell_type": "markdown",
   "metadata": {},
   "source": [
    "# Medical Insurance Project\n",
    "\n",
    "First, we are asked to create variables for estimating medical insurance costs.\n",
    "\n",
    "These will be:\n",
    "    * age (in years)\n",
    "    * sex (0 for female, 1 for male)\n",
    "    * bmi\n",
    "    * num_of_children\n",
    "    * smoker (0 for a non-smoker, 1 for a smoker)\n",
    "\n",
    "We are asked to start by creating the variables for a 28 year-old, non-smoking woman who has three children and a BMI of 26.2\n",
    "\n",
    "The following dataset is used as a guide for this project:\n",
    "https://www.kaggle.com/mirichoi0218/insurance"
   ]
  },
  {
   "cell_type": "code",
   "execution_count": 2,
   "metadata": {},
   "outputs": [],
   "source": [
    "age = 28\n",
    "sex = 0\n",
    "bmi = 26.2\n",
    "num_of_children = 3\n",
    "smoker = 0"
   ]
  },
  {
   "cell_type": "markdown",
   "metadata": {},
   "source": [
    "Next, we are asked to create a formula for calculating insurance cost which follows:\n",
    "\n",
    "$$insurance\\_cost = 250*age - 128*sex + 370*bmi + 425*num\\_of\\_children + 24000*smoker - 12500$$ "
   ]
  },
  {
   "cell_type": "code",
   "execution_count": 3,
   "metadata": {},
   "outputs": [],
   "source": [
    "insurance_cost = 250*age - 128*sex + 370*bmi + 425*num_of_children + 24000*smoker - 12500"
   ]
  },
  {
   "cell_type": "markdown",
   "metadata": {},
   "source": [
    "Now use the formula to print the following information:\n",
    "\n",
    "\"This person's insurance cost is {insurance_cost} dollars.\""
   ]
  },
  {
   "cell_type": "code",
   "execution_count": 5,
   "metadata": {},
   "outputs": [
    {
     "name": "stdout",
     "output_type": "stream",
     "text": [
      "This person's insurance cost is 5469.0 dollars.\n"
     ]
    }
   ],
   "source": [
    "print(\"This person's insurance cost is \" + str(insurance_cost) + \" dollars.\")"
   ]
  },
  {
   "cell_type": "code",
   "execution_count": null,
   "metadata": {},
   "outputs": [],
   "source": []
  }
 ],
 "metadata": {
  "kernelspec": {
   "display_name": "Python 3",
   "language": "python",
   "name": "python3"
  },
  "language_info": {
   "codemirror_mode": {
    "name": "ipython",
    "version": 3
   },
   "file_extension": ".py",
   "mimetype": "text/x-python",
   "name": "python",
   "nbconvert_exporter": "python",
   "pygments_lexer": "ipython3",
   "version": "3.7.6"
  }
 },
 "nbformat": 4,
 "nbformat_minor": 4
}
