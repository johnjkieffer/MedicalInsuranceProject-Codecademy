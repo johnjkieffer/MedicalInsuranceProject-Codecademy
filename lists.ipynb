{
 "cells": [
  {
   "cell_type": "markdown",
   "metadata": {},
   "source": [
    "# Medical Insurance Project\n",
    "## Phase 4: Python Lists\n",
    "This is a continuation of the project started in main."
   ]
  },
  {
   "cell_type": "markdown",
   "metadata": {},
   "source": [
    "The following code is provided:"
   ]
  },
  {
   "cell_type": "code",
   "execution_count": 36,
   "metadata": {},
   "outputs": [
    {
     "name": "stdout",
     "output_type": "stream",
     "text": [
      "Maria's Estimated Insurance Cost: 4222.0 dollars.\n",
      "Rohan's Estimated Insurance Cost: 5442.0 dollars.\n",
      "Valentina's Estimated Insurance Cost: 36368.0 dollars.\n"
     ]
    }
   ],
   "source": [
    "# Function to estimate insurance cost:\n",
    "def estimate_insurance_cost(name, age, sex, bmi, num_of_children, smoker):\n",
    "  estimated_cost = 250*age - 128*sex + 370*bmi + 425*num_of_children + 24000*smoker - 12500\n",
    "  print(name + \"'s Estimated Insurance Cost: \" + str(estimated_cost) + \" dollars.\")\n",
    "  return estimated_cost\n",
    " \n",
    "# Estimate Maria's insurance cost\n",
    "maria_insurance_cost = estimate_insurance_cost(name = \"Maria\", age = 31, sex = 0, bmi = 23.1, num_of_children = 1, smoker = 0)\n",
    "\n",
    "# Estimate Rohan's insurance cost\n",
    "rohan_insurance_cost = estimate_insurance_cost(name = \n",
    "\"Rohan\", age = 25, sex = 1, bmi = 28.5, num_of_children = 3, smoker = 0)\n",
    "\n",
    "# Estimate Valentina's insurance cost\n",
    "valentina_insurance_cost = estimate_insurance_cost(name = \"Valentina\", age = 53, sex = 0, bmi = 31.4, num_of_children = 0, smoker = 1)\n"
   ]
  },
  {
   "cell_type": "markdown",
   "metadata": {},
   "source": [
    "Compare the estimated insurance costs for Maria, Rohan, and Valentia with the actual amounts they paid.\n",
    "\n",
    "Create a list of the names of individuals."
   ]
  },
  {
   "cell_type": "code",
   "execution_count": 37,
   "metadata": {},
   "outputs": [
    {
     "data": {
      "text/plain": [
       "['Maria', 'Rohan', 'Valentina']"
      ]
     },
     "execution_count": 37,
     "metadata": {},
     "output_type": "execute_result"
    }
   ],
   "source": [
    "names = [\"Maria\", \"Rohan\", \"Valentina\"]\n",
    "names"
   ]
  },
  {
   "cell_type": "markdown",
   "metadata": {},
   "source": [
    "Next, create a list of the insurance costs actually paid by the individuals."
   ]
  },
  {
   "cell_type": "code",
   "execution_count": 38,
   "metadata": {},
   "outputs": [
    {
     "data": {
      "text/plain": [
       "[4150.0, 5320.0, 35210.0]"
      ]
     },
     "execution_count": 38,
     "metadata": {},
     "output_type": "execute_result"
    }
   ],
   "source": [
    "insurance_costs = [4150.0, 5320.0, 35210.0]\n",
    "insurance_costs"
   ]
  },
  {
   "cell_type": "markdown",
   "metadata": {},
   "source": [
    "We now want these names and costs to be paired together."
   ]
  },
  {
   "cell_type": "code",
   "execution_count": 39,
   "metadata": {},
   "outputs": [
    {
     "data": {
      "text/plain": [
       "<zip at 0x7ff0afa375f0>"
      ]
     },
     "execution_count": 39,
     "metadata": {},
     "output_type": "execute_result"
    }
   ],
   "source": [
    "insurance_data = zip(names, insurance_costs)\n",
    "insurance_data"
   ]
  },
  {
   "cell_type": "markdown",
   "metadata": {},
   "source": [
    "This output isn't entirely helpful to us, so we will convert the zip object to a list."
   ]
  },
  {
   "cell_type": "code",
   "execution_count": 40,
   "metadata": {},
   "outputs": [
    {
     "data": {
      "text/plain": [
       "[('Maria', 4150.0), ('Rohan', 5320.0), ('Valentina', 35210.0)]"
      ]
     },
     "execution_count": 40,
     "metadata": {},
     "output_type": "execute_result"
    }
   ],
   "source": [
    "insurance_data = list(insurance_data)\n",
    "insurance_data"
   ]
  },
  {
   "cell_type": "markdown",
   "metadata": {},
   "source": [
    "Next, we will create a list to store the estimated insurance costs of each individual."
   ]
  },
  {
   "cell_type": "code",
   "execution_count": 41,
   "metadata": {},
   "outputs": [],
   "source": [
    "estimated_insurance_data = []"
   ]
  },
  {
   "cell_type": "code",
   "execution_count": 42,
   "metadata": {},
   "outputs": [
    {
     "data": {
      "text/plain": [
       "[('Maria', 4222.0), ('Rohan', 5442.0), ('Valentina', 36368.0)]"
      ]
     },
     "execution_count": 42,
     "metadata": {},
     "output_type": "execute_result"
    }
   ],
   "source": [
    "estimated_insurance_data.append((\"Maria\", maria_insurance_cost))\n",
    "estimated_insurance_data.append((\"Rohan\", rohan_insurance_cost))\n",
    "estimated_insurance_data.append((\"Valentina\", valentina_insurance_cost))\n",
    "estimated_insurance_data"
   ]
  },
  {
   "cell_type": "markdown",
   "metadata": {},
   "source": [
    "## Extra Challenges\n",
    "Calculatethe difference between the actual insurance cost and the estimated insurance cost for each individual. We noticethat the estimates are all greater than the actual costs, so this list will show by how much the cost was over-estimated."
   ]
  },
  {
   "cell_type": "code",
   "execution_count": 43,
   "metadata": {},
   "outputs": [
    {
     "data": {
      "text/plain": [
       "[('Maria', 72.0), ('Rohan', 122.0), ('Valentina', 1158.0)]"
      ]
     },
     "execution_count": 43,
     "metadata": {},
     "output_type": "execute_result"
    }
   ],
   "source": [
    "insurance_cost_diff = []\n",
    "for i in range(len(insurance_data)):\n",
    "    name = insurance_data[i][0]\n",
    "    actual = insurance_data[i][1]\n",
    "    estimate = estimated_insurance_data[i][1]\n",
    "    diff = estimate - actual\n",
    "    insurance_cost_diff.append((name, diff))\n",
    "insurance_cost_diff"
   ]
  },
  {
   "cell_type": "markdown",
   "metadata": {},
   "source": [
    "## Lists Part 2\n",
    "\n",
    "In this part, we are considered to be a doctor sorting through medical insurance cost data for some patients.\n",
    "\n",
    "The following code is provided:"
   ]
  },
  {
   "cell_type": "code",
   "execution_count": 44,
   "metadata": {},
   "outputs": [],
   "source": [
    "names = [\"Mohamed\", \"Sara\", \"Xia\", \"Paul\", \"Valentina\", \"Jide\", \"Aaron\", \"Emily\", \"Nikita\", \"Paul\"]\n",
    "insurance_costs = [13262.0, 4816.0, 6839.0, 5054.0, 14724.0, 5360.0, 7640.0, 6072.0, 2750.0, 12064.0]"
   ]
  },
  {
   "cell_type": "markdown",
   "metadata": {},
   "source": [
    "Append a new individual to the \"names\" list and append their insurance cost to the `insurance_costs` list\n",
    "    "
   ]
  },
  {
   "cell_type": "code",
   "execution_count": 45,
   "metadata": {},
   "outputs": [
    {
     "name": "stdout",
     "output_type": "stream",
     "text": [
      "['Mohamed', 'Sara', 'Xia', 'Paul', 'Valentina', 'Jide', 'Aaron', 'Emily', 'Nikita', 'Paul', 'Priscilla']\n",
      "[13262.0, 4816.0, 6839.0, 5054.0, 14724.0, 5360.0, 7640.0, 6072.0, 2750.0, 12064.0, 8320.0]\n"
     ]
    }
   ],
   "source": [
    "names.append(\"Priscilla\")\n",
    "insurance_costs.append(8320.0)\n",
    "print(names)\n",
    "print(insurance_costs)"
   ]
  },
  {
   "cell_type": "markdown",
   "metadata": {},
   "source": [
    "Pair the names with their costs in a new list by using the `zip()` function."
   ]
  },
  {
   "cell_type": "code",
   "execution_count": 46,
   "metadata": {},
   "outputs": [
    {
     "data": {
      "text/plain": [
       "[(13262.0, 'Mohamed'),\n",
       " (4816.0, 'Sara'),\n",
       " (6839.0, 'Xia'),\n",
       " (5054.0, 'Paul'),\n",
       " (14724.0, 'Valentina'),\n",
       " (5360.0, 'Jide'),\n",
       " (7640.0, 'Aaron'),\n",
       " (6072.0, 'Emily'),\n",
       " (2750.0, 'Nikita'),\n",
       " (12064.0, 'Paul'),\n",
       " (8320.0, 'Priscilla')]"
      ]
     },
     "execution_count": 46,
     "metadata": {},
     "output_type": "execute_result"
    }
   ],
   "source": [
    "medical_records = list(zip(insurance_costs, names))\n",
    "medical_records"
   ]
  },
  {
   "cell_type": "markdown",
   "metadata": {},
   "source": [
    "Check to see how many medical records we are dealing with."
   ]
  },
  {
   "cell_type": "code",
   "execution_count": 47,
   "metadata": {},
   "outputs": [
    {
     "name": "stdout",
     "output_type": "stream",
     "text": [
      "There are 11 medical records.\n"
     ]
    }
   ],
   "source": [
    "num_medical_records = len(medical_records)\n",
    "print(\"There are {num} medical records.\".format(num=num_medical_records))"
   ]
  },
  {
   "cell_type": "markdown",
   "metadata": {},
   "source": [
    "Select the first medical record in the list."
   ]
  },
  {
   "cell_type": "code",
   "execution_count": 48,
   "metadata": {},
   "outputs": [
    {
     "name": "stdout",
     "output_type": "stream",
     "text": [
      "The first record in the list is: (13262.0, 'Mohamed')\n"
     ]
    }
   ],
   "source": [
    "first_medical_record = medical_records[0]\n",
    "print(\"The first record in the list is: {record}\".format(record = first_medical_record))"
   ]
  },
  {
   "cell_type": "markdown",
   "metadata": {},
   "source": [
    "Sort `medical_records` so that the individual with the lowest cost appears first."
   ]
  },
  {
   "cell_type": "code",
   "execution_count": 49,
   "metadata": {},
   "outputs": [
    {
     "name": "stdout",
     "output_type": "stream",
     "text": [
      "The sorted records are as follows:\n"
     ]
    },
    {
     "data": {
      "text/plain": [
       "[(2750.0, 'Nikita'),\n",
       " (4816.0, 'Sara'),\n",
       " (5054.0, 'Paul'),\n",
       " (5360.0, 'Jide'),\n",
       " (6072.0, 'Emily'),\n",
       " (6839.0, 'Xia'),\n",
       " (7640.0, 'Aaron'),\n",
       " (8320.0, 'Priscilla'),\n",
       " (12064.0, 'Paul'),\n",
       " (13262.0, 'Mohamed'),\n",
       " (14724.0, 'Valentina')]"
      ]
     },
     "execution_count": 49,
     "metadata": {},
     "output_type": "execute_result"
    }
   ],
   "source": [
    "medical_records.sort()\n",
    "print(\"The sorted records are as follows:\")\n",
    "medical_records"
   ]
  },
  {
   "cell_type": "markdown",
   "metadata": {},
   "source": [
    "To look at the three cheapest insurance costs in our list, we can take a slice of the sorted list."
   ]
  },
  {
   "cell_type": "code",
   "execution_count": 52,
   "metadata": {},
   "outputs": [
    {
     "name": "stdout",
     "output_type": "stream",
     "text": [
      "The three cheapest insurance costs in our medical records are:\n"
     ]
    },
    {
     "data": {
      "text/plain": [
       "[(2750.0, 'Nikita'), (4816.0, 'Sara'), (5054.0, 'Paul')]"
      ]
     },
     "execution_count": 52,
     "metadata": {},
     "output_type": "execute_result"
    }
   ],
   "source": [
    "cheapest_three = medical_records[:3]\n",
    "print(\"The three cheapest insurance costs in our medical records are:\")\n",
    "cheapest_three"
   ]
  },
  {
   "cell_type": "markdown",
   "metadata": {},
   "source": [
    "Likewise, we can find the three most expensive insurance costs."
   ]
  },
  {
   "cell_type": "code",
   "execution_count": 54,
   "metadata": {},
   "outputs": [
    {
     "name": "stdout",
     "output_type": "stream",
     "text": [
      "The three most expensive insurance costs in our medical records are:\n"
     ]
    },
    {
     "data": {
      "text/plain": [
       "[(12064.0, 'Paul'), (13262.0, 'Mohamed'), (14724.0, 'Valentina')]"
      ]
     },
     "execution_count": 54,
     "metadata": {},
     "output_type": "execute_result"
    }
   ],
   "source": [
    "priciest_three = medical_records[-3:]\n",
    "print(\"The three most expensive insurance costs in our medical records are:\")\n",
    "priciest_three"
   ]
  },
  {
   "cell_type": "markdown",
   "metadata": {},
   "source": [
    "Some names are repeated in our records. We can find how many times \"Paul\" shows up."
   ]
  },
  {
   "cell_type": "code",
   "execution_count": 57,
   "metadata": {},
   "outputs": [
    {
     "name": "stdout",
     "output_type": "stream",
     "text": [
      "There are 2 individuals with the name Paul in our records.\n"
     ]
    }
   ],
   "source": [
    "occurances_paul = names.count(\"Paul\")\n",
    "print(\"There are {count} individuals with the name Paul in our records.\".format(count = occurances_paul))\n"
   ]
  },
  {
   "cell_type": "code",
   "execution_count": null,
   "metadata": {},
   "outputs": [],
   "source": []
  }
 ],
 "metadata": {
  "kernelspec": {
   "display_name": "Python 3",
   "language": "python",
   "name": "python3"
  },
  "language_info": {
   "codemirror_mode": {
    "name": "ipython",
    "version": 3
   },
   "file_extension": ".py",
   "mimetype": "text/x-python",
   "name": "python",
   "nbconvert_exporter": "python",
   "pygments_lexer": "ipython3",
   "version": "3.7.6"
  }
 },
 "nbformat": 4,
 "nbformat_minor": 4
}
